{
 "cells": [
  {
   "cell_type": "code",
   "execution_count": 3,
   "id": "b69c0791",
   "metadata": {},
   "outputs": [],
   "source": [
    "from pytorch_tabnet.tab_model import TabNetClassifier\n",
    "\n",
    "import torch\n",
    "from sklearn.preprocessing import LabelEncoder\n",
    "from sklearn.metrics import accuracy_score\n",
    "from sklearn.model_selection import train_test_split\n",
    "import pandas as pd\n",
    "import numpy as np\n",
    "np.random.seed(0)\n",
    "\n",
    "\n",
    "import os\n",
    "import wget\n",
    "from pathlib import Path\n",
    "import shutil\n",
    "import gzip\n",
    "\n",
    "from matplotlib import pyplot as plt\n",
    "%matplotlib inline"
   ]
  },
  {
   "cell_type": "code",
   "execution_count": 4,
   "id": "99862064",
   "metadata": {},
   "outputs": [],
   "source": [
    "url = \"https://archive.ics.uci.edu/ml/machine-learning-databases/covtype/covtype.data.gz\"\n",
    "dataset_name = 'forest-cover-type'\n",
    "tmp_out = Path('./data/'+dataset_name+'.gz')\n",
    "out = Path(os.getcwd()+'/data/'+dataset_name+'.csv')"
   ]
  },
  {
   "cell_type": "code",
   "execution_count": 5,
   "id": "92c9d8e9",
   "metadata": {},
   "outputs": [
    {
     "name": "stdout",
     "output_type": "stream",
     "text": [
      "Downloading file...\n"
     ]
    }
   ],
   "source": [
    "out.parent.mkdir(parents=True, exist_ok=True)\n",
    "if out.exists():\n",
    "    print(\"File already exists.\")\n",
    "else:\n",
    "    print(\"Downloading file...\")\n",
    "    wget.download(url, tmp_out.as_posix())\n",
    "    with gzip.open(tmp_out, 'rb') as f_in:\n",
    "        with open(out, 'wb') as f_out:\n",
    "            shutil.copyfileobj(f_in, f_out)\n",
    "    "
   ]
  },
  {
   "cell_type": "code",
   "execution_count": 6,
   "id": "5002e664",
   "metadata": {},
   "outputs": [],
   "source": [
    "target = \"Covertype\"\n",
    "\n",
    "bool_columns = [\n",
    "    \"Wilderness_Area1\", \"Wilderness_Area2\", \"Wilderness_Area3\",\n",
    "    \"Wilderness_Area4\", \"Soil_Type1\", \"Soil_Type2\", \"Soil_Type3\", \"Soil_Type4\",\n",
    "    \"Soil_Type5\", \"Soil_Type6\", \"Soil_Type7\", \"Soil_Type8\", \"Soil_Type9\",\n",
    "    \"Soil_Type10\", \"Soil_Type11\", \"Soil_Type12\", \"Soil_Type13\", \"Soil_Type14\",\n",
    "    \"Soil_Type15\", \"Soil_Type16\", \"Soil_Type17\", \"Soil_Type18\", \"Soil_Type19\",\n",
    "    \"Soil_Type20\", \"Soil_Type21\", \"Soil_Type22\", \"Soil_Type23\", \"Soil_Type24\",\n",
    "    \"Soil_Type25\", \"Soil_Type26\", \"Soil_Type27\", \"Soil_Type28\", \"Soil_Type29\",\n",
    "    \"Soil_Type30\", \"Soil_Type31\", \"Soil_Type32\", \"Soil_Type33\", \"Soil_Type34\",\n",
    "    \"Soil_Type35\", \"Soil_Type36\", \"Soil_Type37\", \"Soil_Type38\", \"Soil_Type39\",\n",
    "    \"Soil_Type40\"\n",
    "]\n",
    "\n",
    "int_columns = [\n",
    "    \"Elevation\", \"Aspect\", \"Slope\", \"Horizontal_Distance_To_Hydrology\",\n",
    "    \"Vertical_Distance_To_Hydrology\", \"Horizontal_Distance_To_Roadways\",\n",
    "    \"Hillshade_9am\", \"Hillshade_Noon\", \"Hillshade_3pm\",\n",
    "    \"Horizontal_Distance_To_Fire_Points\"\n",
    "]\n",
    "\n",
    "feature_columns = (\n",
    "    int_columns + bool_columns + [target])"
   ]
  },
  {
   "cell_type": "code",
   "execution_count": 7,
   "id": "38253b87",
   "metadata": {},
   "outputs": [],
   "source": [
    "train = pd.read_csv(out, header=None, names=feature_columns)\n",
    "\n",
    "n_total = len(train)\n",
    "\n",
    "# Train, val and test split follows\n",
    "# Rory Mitchell, Andrey Adinets, Thejaswi Rao, and Eibe Frank.\n",
    "# Xgboost: Scalable GPU accelerated learning. arXiv:1806.11248, 2018.\n",
    "\n",
    "train_val_indices, test_indices = train_test_split(\n",
    "    range(n_total), test_size=0.2, random_state=0)\n",
    "train_indices, valid_indices = train_test_split(\n",
    "    train_val_indices, test_size=0.2 / 0.6, random_state=0)"
   ]
  },
  {
   "cell_type": "code",
   "execution_count": 8,
   "id": "5d48c15e",
   "metadata": {},
   "outputs": [],
   "source": [
    "categorical_columns = []\n",
    "categorical_dims =  {}\n",
    "for col in train.columns[train.dtypes == object]:\n",
    "    print(col, train[col].nunique())\n",
    "    l_enc = LabelEncoder()\n",
    "    train[col] = train[col].fillna(\"VV_likely\")\n",
    "    train[col] = l_enc.fit_transform(train[col].values)\n",
    "    categorical_columns.append(col)\n",
    "    categorical_dims[col] = len(l_enc.classes_)\n",
    "\n",
    "for col in train.columns[train.dtypes == 'float64']:\n",
    "    train.fillna(train.loc[train_indices, col].mean(), inplace=True)"
   ]
  },
  {
   "cell_type": "code",
   "execution_count": 9,
   "id": "6bc94754",
   "metadata": {},
   "outputs": [],
   "source": [
    "unused_feat = []\n",
    "\n",
    "features = [ col for col in train.columns if col not in unused_feat+[target]] \n",
    "\n",
    "cat_idxs = [ i for i, f in enumerate(features) if f in categorical_columns]\n",
    "\n",
    "cat_dims = [ categorical_dims[f] for i, f in enumerate(features) if f in categorical_columns]"
   ]
  },
  {
   "cell_type": "code",
   "execution_count": 10,
   "id": "a4607c48",
   "metadata": {},
   "outputs": [
    {
     "name": "stderr",
     "output_type": "stream",
     "text": [
      "C:\\Users\\varun\\anaconda3\\envs\\torch\\lib\\site-packages\\pytorch_tabnet\\abstract_model.py:75: UserWarning: Device used : cuda\n",
      "  warnings.warn(f\"Device used : {self.device}\")\n"
     ]
    }
   ],
   "source": [
    "clf = TabNetClassifier(\n",
    "    n_d=64, n_a=64, n_steps=5,\n",
    "    gamma=1.5, n_independent=2, n_shared=2,\n",
    "    cat_idxs=cat_idxs,\n",
    "    cat_dims=cat_dims,\n",
    "    cat_emb_dim=1,\n",
    "    lambda_sparse=1e-4, momentum=0.3, clip_value=2.,\n",
    "    optimizer_fn=torch.optim.Adam,\n",
    "    optimizer_params=dict(lr=2e-2),\n",
    "    scheduler_params = {\"gamma\": 0.95,\n",
    "                     \"step_size\": 20},\n",
    "    scheduler_fn=torch.optim.lr_scheduler.StepLR, epsilon=1e-15\n",
    ")"
   ]
  },
  {
   "cell_type": "code",
   "execution_count": 11,
   "id": "12d272af",
   "metadata": {},
   "outputs": [],
   "source": [
    "if os.getenv(\"CI\", False):\n",
    "# Take only a subsample to run CI\n",
    "    X_train = train[features].values[train_indices][:1000,:]\n",
    "    y_train = train[target].values[train_indices][:1000]\n",
    "else:\n",
    "    X_train = train[features].values[train_indices]\n",
    "    y_train = train[target].values[train_indices]\n",
    "\n",
    "X_valid = train[features].values[valid_indices]\n",
    "y_valid = train[target].values[valid_indices]\n",
    "\n",
    "X_test = train[features].values[test_indices]\n",
    "y_test = train[target].values[test_indices]"
   ]
  },
  {
   "cell_type": "code",
   "execution_count": 12,
   "id": "9ed09702",
   "metadata": {},
   "outputs": [],
   "source": [
    "max_epochs = 50 if not os.getenv(\"CI\", False) else 2"
   ]
  },
  {
   "cell_type": "code",
   "execution_count": 13,
   "id": "8f9ed6bc",
   "metadata": {},
   "outputs": [
    {
     "name": "stdout",
     "output_type": "stream",
     "text": [
      "epoch 0  | loss: 1.22774 | train_accuracy: 0.05808 | valid_accuracy: 0.05714 |  0:00:17s\n",
      "epoch 1  | loss: 0.78388 | train_accuracy: 0.03543 | valid_accuracy: 0.0354  |  0:00:34s\n",
      "epoch 2  | loss: 0.73506 | train_accuracy: 0.0357  | valid_accuracy: 0.03559 |  0:00:51s\n",
      "epoch 3  | loss: 0.71173 | train_accuracy: 0.03585 | valid_accuracy: 0.03566 |  0:01:08s\n",
      "epoch 4  | loss: 0.69748 | train_accuracy: 0.03561 | valid_accuracy: 0.0355  |  0:01:24s\n",
      "epoch 5  | loss: 0.68411 | train_accuracy: 0.0356  | valid_accuracy: 0.0355  |  0:01:41s\n",
      "epoch 6  | loss: 0.67533 | train_accuracy: 0.12261 | valid_accuracy: 0.12381 |  0:01:58s\n",
      "epoch 7  | loss: 0.66557 | train_accuracy: 0.0635  | valid_accuracy: 0.06441 |  0:02:14s\n",
      "epoch 8  | loss: 0.65848 | train_accuracy: 0.08809 | valid_accuracy: 0.08809 |  0:02:30s\n",
      "epoch 9  | loss: 0.65074 | train_accuracy: 0.11824 | valid_accuracy: 0.11732 |  0:02:47s\n",
      "epoch 10 | loss: 0.64568 | train_accuracy: 0.20514 | valid_accuracy: 0.20543 |  0:03:03s\n",
      "epoch 11 | loss: 0.6487  | train_accuracy: 0.31186 | valid_accuracy: 0.31337 |  0:03:20s\n",
      "epoch 12 | loss: 0.64459 | train_accuracy: 0.41126 | valid_accuracy: 0.41105 |  0:03:36s\n",
      "epoch 13 | loss: 0.63493 | train_accuracy: 0.50328 | valid_accuracy: 0.50313 |  0:03:53s\n",
      "epoch 14 | loss: 0.62674 | train_accuracy: 0.5622  | valid_accuracy: 0.56134 |  0:04:10s\n",
      "epoch 15 | loss: 0.62497 | train_accuracy: 0.60859 | valid_accuracy: 0.60754 |  0:04:26s\n",
      "epoch 16 | loss: 0.6138  | train_accuracy: 0.66882 | valid_accuracy: 0.66682 |  0:04:43s\n",
      "epoch 17 | loss: 0.60691 | train_accuracy: 0.6789  | valid_accuracy: 0.67693 |  0:04:59s\n",
      "epoch 18 | loss: 0.60304 | train_accuracy: 0.70334 | valid_accuracy: 0.70176 |  0:05:16s\n",
      "epoch 19 | loss: 0.59642 | train_accuracy: 0.71004 | valid_accuracy: 0.70751 |  0:05:32s\n",
      "epoch 20 | loss: 0.59236 | train_accuracy: 0.73765 | valid_accuracy: 0.73356 |  0:05:49s\n",
      "epoch 21 | loss: 0.58305 | train_accuracy: 0.74316 | valid_accuracy: 0.74044 |  0:06:06s\n",
      "epoch 22 | loss: 0.57772 | train_accuracy: 0.75736 | valid_accuracy: 0.7541  |  0:06:23s\n",
      "epoch 23 | loss: 0.57076 | train_accuracy: 0.76697 | valid_accuracy: 0.76402 |  0:06:40s\n",
      "epoch 24 | loss: 0.57593 | train_accuracy: 0.76438 | valid_accuracy: 0.76326 |  0:06:56s\n",
      "epoch 25 | loss: 0.57471 | train_accuracy: 0.77289 | valid_accuracy: 0.77113 |  0:07:13s\n",
      "epoch 26 | loss: 0.56743 | train_accuracy: 0.7784  | valid_accuracy: 0.77638 |  0:07:29s\n",
      "epoch 27 | loss: 0.56362 | train_accuracy: 0.77953 | valid_accuracy: 0.77798 |  0:07:46s\n",
      "epoch 28 | loss: 0.55391 | train_accuracy: 0.78556 | valid_accuracy: 0.78363 |  0:08:02s\n",
      "epoch 29 | loss: 0.55369 | train_accuracy: 0.78547 | valid_accuracy: 0.78362 |  0:08:19s\n",
      "epoch 30 | loss: 0.5601  | train_accuracy: 0.7802  | valid_accuracy: 0.77803 |  0:08:35s\n",
      "epoch 31 | loss: 0.55992 | train_accuracy: 0.78099 | valid_accuracy: 0.77861 |  0:08:52s\n",
      "epoch 32 | loss: 0.56927 | train_accuracy: 0.78114 | valid_accuracy: 0.77976 |  0:09:09s\n",
      "epoch 33 | loss: 0.56219 | train_accuracy: 0.78844 | valid_accuracy: 0.78667 |  0:09:25s\n",
      "epoch 34 | loss: 0.55804 | train_accuracy: 0.79369 | valid_accuracy: 0.78984 |  0:09:42s\n",
      "epoch 35 | loss: 0.54639 | train_accuracy: 0.79957 | valid_accuracy: 0.79817 |  0:09:59s\n",
      "epoch 36 | loss: 0.541   | train_accuracy: 0.80227 | valid_accuracy: 0.80045 |  0:10:15s\n",
      "epoch 37 | loss: 0.52646 | train_accuracy: 0.80824 | valid_accuracy: 0.80733 |  0:10:32s\n",
      "epoch 38 | loss: 0.51609 | train_accuracy: 0.81443 | valid_accuracy: 0.8125  |  0:10:48s\n",
      "epoch 39 | loss: 0.51311 | train_accuracy: 0.81346 | valid_accuracy: 0.81112 |  0:11:05s\n",
      "epoch 40 | loss: 0.50775 | train_accuracy: 0.81819 | valid_accuracy: 0.8148  |  0:11:21s\n",
      "epoch 41 | loss: 0.50655 | train_accuracy: 0.81748 | valid_accuracy: 0.8139  |  0:11:38s\n",
      "epoch 42 | loss: 0.49834 | train_accuracy: 0.82427 | valid_accuracy: 0.821   |  0:11:54s\n",
      "epoch 43 | loss: 0.49496 | train_accuracy: 0.82146 | valid_accuracy: 0.81916 |  0:12:11s\n",
      "epoch 44 | loss: 0.495   | train_accuracy: 0.81923 | valid_accuracy: 0.81669 |  0:12:27s\n",
      "epoch 45 | loss: 0.49483 | train_accuracy: 0.82886 | valid_accuracy: 0.82626 |  0:12:44s\n",
      "epoch 46 | loss: 0.48052 | train_accuracy: 0.83165 | valid_accuracy: 0.82898 |  0:13:00s\n",
      "epoch 47 | loss: 0.47747 | train_accuracy: 0.83362 | valid_accuracy: 0.8308  |  0:13:17s\n",
      "epoch 48 | loss: 0.47607 | train_accuracy: 0.83178 | valid_accuracy: 0.8284  |  0:13:34s\n",
      "epoch 49 | loss: 0.46835 | train_accuracy: 0.83448 | valid_accuracy: 0.83274 |  0:13:50s\n",
      "Stop training because you reached max_epochs = 50 with best_epoch = 49 and best_valid_accuracy = 0.83274\n"
     ]
    },
    {
     "name": "stderr",
     "output_type": "stream",
     "text": [
      "C:\\Users\\varun\\anaconda3\\envs\\torch\\lib\\site-packages\\pytorch_tabnet\\callbacks.py:172: UserWarning: Best weights from best epoch are automatically used!\n",
      "  warnings.warn(wrn_msg)\n"
     ]
    }
   ],
   "source": [
    "from pytorch_tabnet.augmentations import ClassificationSMOTE\n",
    "aug = ClassificationSMOTE(p=0.2)\n",
    "\n",
    "clf.fit(\n",
    "    X_train=X_train, y_train=y_train,\n",
    "    eval_set=[(X_train, y_train), (X_valid, y_valid)],\n",
    "    eval_name=['train', 'valid'],\n",
    "    max_epochs=max_epochs, patience=100,\n",
    "    batch_size=16384, virtual_batch_size=256,\n",
    "    augmentations=aug\n",
    ") "
   ]
  },
  {
   "cell_type": "code",
   "execution_count": 14,
   "id": "6c3e5439",
   "metadata": {},
   "outputs": [
    {
     "data": {
      "text/plain": [
       "[<matplotlib.lines.Line2D at 0x27817b1b100>]"
      ]
     },
     "execution_count": 14,
     "metadata": {},
     "output_type": "execute_result"
    },
    {
     "data": {
      "image/png": "[encoded data removed]",
      "text/plain": [
       "<Figure size 432x288 with 1 Axes>"
      ]
     },
     "metadata": {
      "needs_background": "light"
     },
     "output_type": "display_data"
    }
   ],
   "source": [
    "# plot losses\n",
    "plt.plot(clf.history['loss'])"
   ]
  },
  {
   "cell_type": "code",
   "execution_count": 15,
   "id": "3e772399",
   "metadata": {},
   "outputs": [
    {
     "data": {
      "text/plain": [
       "[<matplotlib.lines.Line2D at 0x27839a0e280>]"
      ]
     },
     "execution_count": 15,
     "metadata": {},
     "output_type": "execute_result"
    },
    {
     "data": {
      "image/png": "[encoded data removed]",
      "text/plain": [
       "<Figure size 432x288 with 1 Axes>"
      ]
     },
     "metadata": {
      "needs_background": "light"
     },
     "output_type": "display_data"
    }
   ],
   "source": [
    "# plot accuracy\n",
    "plt.plot(clf.history['train_accuracy'])\n",
    "plt.plot(clf.history['valid_accuracy'])"
   ]
  },
  {
   "cell_type": "code",
   "execution_count": 16,
   "id": "e28ebce1",
   "metadata": {},
   "outputs": [
    {
     "name": "stdout",
     "output_type": "stream",
     "text": [
      "BEST VALID SCORE FOR forest-cover-type : 0.8327449221296398\n",
      "FINAL TEST SCORE FOR forest-cover-type : 0.8314845571973185\n"
     ]
    }
   ],
   "source": [
    "# To get final results you may need to use a mapping for classes \n",
    "# as you are allowed to use targets like [\"yes\", \"no\", \"maybe\", \"I don't know\"]\n",
    "\n",
    "preds_mapper = { idx : class_name for idx, class_name in enumerate(clf.classes_)}\n",
    "\n",
    "preds = clf.predict_proba(X_test)\n",
    "\n",
    "y_pred = np.vectorize(preds_mapper.get)(np.argmax(preds, axis=1))\n",
    "\n",
    "test_acc = accuracy_score(y_pred=y_pred, y_true=y_test)\n",
    "\n",
    "print(f\"BEST VALID SCORE FOR {dataset_name} : {clf.best_cost}\")\n",
    "print(f\"FINAL TEST SCORE FOR {dataset_name} : {test_acc}\")"
   ]
  },
  {
   "cell_type": "code",
   "execution_count": 17,
   "id": "f48f6ea9",
   "metadata": {},
   "outputs": [
    {
     "name": "stdout",
     "output_type": "stream",
     "text": [
      "FINAL TEST SCORE FOR forest-cover-type : 0.8314845571973185\n"
     ]
    }
   ],
   "source": [
    "# or you can simply use the predict method\n",
    "\n",
    "y_pred = clf.predict(X_test)\n",
    "test_acc = accuracy_score(y_pred=y_pred, y_true=y_test)\n",
    "print(f\"FINAL TEST SCORE FOR {dataset_name} : {test_acc}\")"
   ]
  },
  {
   "cell_type": "code",
   "execution_count": 18,
   "id": "76f8659d",
   "metadata": {},
   "outputs": [
    {
     "data": {
      "text/plain": [
       "array([1.19196376e-01, 2.40714698e-02, 1.31529022e-02, 6.67400146e-02,\n",
       "       2.90108211e-03, 1.09392060e-01, 3.82445315e-02, 2.14183268e-02,\n",
       "       2.60037467e-03, 2.85065883e-02, 3.27991047e-02, 1.31668057e-02,\n",
       "       1.23266115e-02, 1.85101968e-02, 4.51829389e-03, 2.80143876e-02,\n",
       "       1.10058639e-02, 5.67718197e-03, 1.93645858e-02, 3.46936180e-03,\n",
       "       1.30306349e-02, 2.14966827e-03, 1.59243582e-02, 1.71817714e-03,\n",
       "       2.06839375e-02, 1.30114665e-03, 2.93254101e-02, 9.04166304e-04,\n",
       "       1.04823202e-02, 6.13405191e-03, 3.08834533e-03, 1.19261885e-02,\n",
       "       3.18697879e-03, 2.62233513e-03, 1.95308866e-02, 2.82455812e-02,\n",
       "       1.96066961e-02, 2.24077555e-04, 2.74861768e-03, 1.50455866e-02,\n",
       "       3.45957379e-06, 1.22685109e-05, 2.49473600e-02, 5.47685017e-02,\n",
       "       1.51536068e-04, 6.04478385e-02, 8.51458074e-03, 6.82830002e-03,\n",
       "       2.66661312e-02, 1.33232460e-03, 1.52397403e-02, 1.54129972e-04,\n",
       "       1.12742168e-03, 1.68511228e-02])"
      ]
     },
     "execution_count": 18,
     "metadata": {},
     "output_type": "execute_result"
    }
   ],
   "source": [
    "clf.feature_importances_"
   ]
  },
  {
   "cell_type": "code",
   "execution_count": null,
   "id": "f145ff48",
   "metadata": {},
   "outputs": [],
   "source": []
  }
 ],
 "metadata": {
  "kernelspec": {
   "display_name": "Python 3 (ipykernel)",
   "language": "python",
   "name": "python3"
  },
  "language_info": {
   "codemirror_mode": {
    "name": "ipython",
    "version": 3
   },
   "file_extension": ".py",
   "mimetype": "text/x-python",
   "name": "python",
   "nbconvert_exporter": "python",
   "pygments_lexer": "ipython3",
   "version": "3.9.13"
  }
 },
 "nbformat": 4,
 "nbformat_minor": 5
}
