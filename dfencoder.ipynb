{
 "cells": [
  {
   "cell_type": "markdown",
   "id": "d48f02bf",
   "metadata": {},
   "source": [
    "# dfencoder Demo: Census Dataset"
   ]
  },
  {
   "cell_type": "code",
   "execution_count": 1,
   "id": "894ad166",
   "metadata": {},
   "outputs": [],
   "source": [
    "import torch"
   ]
  },
  {
   "cell_type": "code",
   "execution_count": 2,
   "id": "b3f0782b",
   "metadata": {},
   "outputs": [],
   "source": [
    "#these are our libraries\n",
    "from dfencoder import AutoEncoder\n",
    "import numpy as np\n",
    "import pandas as pd\n",
    "\n",
    "#and, for pretty visualiations...\n",
    "import matplotlib.pyplot as plt\n",
    "import seaborn as sns\n",
    "\n",
    "sns.set()\n",
    "%config InlineBackend.figure_format = 'retina'"
   ]
  },
  {
   "cell_type": "markdown",
   "id": "5e6dbab4",
   "metadata": {},
   "source": [
    "# About the Data"
   ]
  },
  {
   "cell_type": "raw",
   "id": "f23582d4",
   "metadata": {},
   "source": [
    "This dataset contains information about 32,561 adults (in the training set), with a number of features.\n",
    "\n",
    "Traditionally, the target variable is \"salary,\" a binary feature with \"<50k\" and \">=50k\" as its two values. For this now, we'll treat this column as we do all the others."
   ]
  },
  {
   "cell_type": "code",
   "execution_count": 3,
   "id": "9b5660ff",
   "metadata": {},
   "outputs": [
    {
     "data": {
      "text/html": [
       "<div>\n",
       "<style scoped>\n",
       "    .dataframe tbody tr th:only-of-type {\n",
       "        vertical-align: middle;\n",
       "    }\n",
       "\n",
       "    .dataframe tbody tr th {\n",
       "        vertical-align: top;\n",
       "    }\n",
       "\n",
       "    .dataframe thead th {\n",
       "        text-align: right;\n",
       "    }\n",
       "</style>\n",
       "<table border=\"1\" class=\"dataframe\">\n",
       "  <thead>\n",
       "    <tr style=\"text-align: right;\">\n",
       "      <th></th>\n",
       "      <th>age</th>\n",
       "      <th>workclass</th>\n",
       "      <th>fnlwgt</th>\n",
       "      <th>education</th>\n",
       "      <th>education-num</th>\n",
       "      <th>marital-status</th>\n",
       "      <th>occupation</th>\n",
       "      <th>relationship</th>\n",
       "      <th>race</th>\n",
       "      <th>sex</th>\n",
       "      <th>capital-gain</th>\n",
       "      <th>capital-loss</th>\n",
       "      <th>hours-per-week</th>\n",
       "      <th>native-country</th>\n",
       "      <th>salary</th>\n",
       "    </tr>\n",
       "  </thead>\n",
       "  <tbody>\n",
       "    <tr>\n",
       "      <th>0</th>\n",
       "      <td>49</td>\n",
       "      <td>Private</td>\n",
       "      <td>101320</td>\n",
       "      <td>Assoc-acdm</td>\n",
       "      <td>12.0</td>\n",
       "      <td>Married-civ-spouse</td>\n",
       "      <td>NaN</td>\n",
       "      <td>Wife</td>\n",
       "      <td>White</td>\n",
       "      <td>Female</td>\n",
       "      <td>0</td>\n",
       "      <td>1902</td>\n",
       "      <td>40</td>\n",
       "      <td>United-States</td>\n",
       "      <td>&gt;=50k</td>\n",
       "    </tr>\n",
       "    <tr>\n",
       "      <th>1</th>\n",
       "      <td>44</td>\n",
       "      <td>Private</td>\n",
       "      <td>236746</td>\n",
       "      <td>Masters</td>\n",
       "      <td>14.0</td>\n",
       "      <td>Divorced</td>\n",
       "      <td>Exec-managerial</td>\n",
       "      <td>Not-in-family</td>\n",
       "      <td>White</td>\n",
       "      <td>Male</td>\n",
       "      <td>10520</td>\n",
       "      <td>0</td>\n",
       "      <td>45</td>\n",
       "      <td>United-States</td>\n",
       "      <td>&gt;=50k</td>\n",
       "    </tr>\n",
       "    <tr>\n",
       "      <th>2</th>\n",
       "      <td>38</td>\n",
       "      <td>Private</td>\n",
       "      <td>96185</td>\n",
       "      <td>HS-grad</td>\n",
       "      <td>NaN</td>\n",
       "      <td>Divorced</td>\n",
       "      <td>NaN</td>\n",
       "      <td>Unmarried</td>\n",
       "      <td>Black</td>\n",
       "      <td>Female</td>\n",
       "      <td>0</td>\n",
       "      <td>0</td>\n",
       "      <td>32</td>\n",
       "      <td>United-States</td>\n",
       "      <td>&lt;50k</td>\n",
       "    </tr>\n",
       "    <tr>\n",
       "      <th>3</th>\n",
       "      <td>38</td>\n",
       "      <td>Self-emp-inc</td>\n",
       "      <td>112847</td>\n",
       "      <td>Prof-school</td>\n",
       "      <td>15.0</td>\n",
       "      <td>Married-civ-spouse</td>\n",
       "      <td>Prof-specialty</td>\n",
       "      <td>Husband</td>\n",
       "      <td>Asian-Pac-Islander</td>\n",
       "      <td>Male</td>\n",
       "      <td>0</td>\n",
       "      <td>0</td>\n",
       "      <td>40</td>\n",
       "      <td>United-States</td>\n",
       "      <td>&gt;=50k</td>\n",
       "    </tr>\n",
       "    <tr>\n",
       "      <th>4</th>\n",
       "      <td>42</td>\n",
       "      <td>Self-emp-not-inc</td>\n",
       "      <td>82297</td>\n",
       "      <td>7th-8th</td>\n",
       "      <td>NaN</td>\n",
       "      <td>Married-civ-spouse</td>\n",
       "      <td>Other-service</td>\n",
       "      <td>Wife</td>\n",
       "      <td>Black</td>\n",
       "      <td>Female</td>\n",
       "      <td>0</td>\n",
       "      <td>0</td>\n",
       "      <td>50</td>\n",
       "      <td>United-States</td>\n",
       "      <td>&lt;50k</td>\n",
       "    </tr>\n",
       "  </tbody>\n",
       "</table>\n",
       "</div>"
      ],
      "text/plain": [
       "   age          workclass  fnlwgt     education  education-num  \\\n",
       "0   49            Private  101320    Assoc-acdm           12.0   \n",
       "1   44            Private  236746       Masters           14.0   \n",
       "2   38            Private   96185       HS-grad            NaN   \n",
       "3   38       Self-emp-inc  112847   Prof-school           15.0   \n",
       "4   42   Self-emp-not-inc   82297       7th-8th            NaN   \n",
       "\n",
       "        marital-status        occupation    relationship                 race  \\\n",
       "0   Married-civ-spouse               NaN            Wife                White   \n",
       "1             Divorced   Exec-managerial   Not-in-family                White   \n",
       "2             Divorced               NaN       Unmarried                Black   \n",
       "3   Married-civ-spouse    Prof-specialty         Husband   Asian-Pac-Islander   \n",
       "4   Married-civ-spouse     Other-service            Wife                Black   \n",
       "\n",
       "       sex  capital-gain  capital-loss  hours-per-week  native-country salary  \n",
       "0   Female             0          1902              40   United-States  >=50k  \n",
       "1     Male         10520             0              45   United-States  >=50k  \n",
       "2   Female             0             0              32   United-States   <50k  \n",
       "3     Male             0             0              40   United-States  >=50k  \n",
       "4   Female             0             0              50   United-States   <50k  "
      ]
     },
     "execution_count": 3,
     "metadata": {},
     "output_type": "execute_result"
    }
   ],
   "source": [
    "#load and look at the data\n",
    "df = pd.read_csv('https://github.com/AlliedToasters/dfencoder/raw/master/adult.csv')\n",
    "\n",
    "#this dataset contains nulls and ' ?'. Let's make these all nulls.\n",
    "df = df.applymap(lambda x: np.nan if x==' ?' else x)\n",
    "df.head()"
   ]
  },
  {
   "cell_type": "markdown",
   "id": "c9642375",
   "metadata": {},
   "source": [
    "# Validation on Hold-Out Set"
   ]
  },
  {
   "cell_type": "raw",
   "id": "a640ec6f",
   "metadata": {},
   "source": [
    "Even in unsupervised learning, it's a good idea to do a train/validation split during training. This will help you fine-tune your model and avoid overfitting. Let's hold out 20% of the examples."
   ]
  },
  {
   "cell_type": "code",
   "execution_count": 4,
   "id": "28366bea",
   "metadata": {},
   "outputs": [],
   "source": [
    "train = df.sample(frac=.8, random_state=42)\n",
    "test = df.loc[~df.index.isin(train.index)]\n",
    "\n",
    "X_train = train\n",
    "X_val = test"
   ]
  },
  {
   "cell_type": "markdown",
   "id": "3342ad7d",
   "metadata": {},
   "source": [
    "# Building A Model"
   ]
  },
  {
   "cell_type": "raw",
   "id": "40a35ff3",
   "metadata": {},
   "source": [
    "Applying DAE, you have to make a lot of choices. How many hidden layers does your model have? What activations will you use? Learning rate? Optimizer? What noise level do you want to apply to the inputs during training?\n",
    "What about feature scaling? Do you want to use uniform scaling or standard scaling? What about GaussRank scaling, the technique used in a kaggle-winning competition?\n",
    "dfencoder aims to free you from the burden of data munging so you can focus on optimizing these parameters. Here's an example of how to feed these hyperparameters to your model."
   ]
  },
  {
   "cell_type": "code",
   "execution_count": 5,
   "id": "61f53d07",
   "metadata": {},
   "outputs": [],
   "source": [
    "model = AutoEncoder(\n",
    "    encoder_layers = [512, 512, 512], #model architecture\n",
    "    decoder_layers = [], #decoder optional - you can create bottlenecks if you like\n",
    "    activation='relu',\n",
    "    swap_p=0.2, #noise parameter\n",
    "    lr = 0.01,\n",
    "    lr_decay=.99,\n",
    "    batch_size=512,\n",
    "    logger='ipynb', #special logging for jupyter notebooks\n",
    "    verbose=False,\n",
    "    optimizer='sgd',\n",
    "    scaler='gauss_rank', #gauss rank scaling forces your numeric features into standard normal distributions\n",
    "    min_cats=3 #Define cutoff for minority categories, default 10\n",
    ")"
   ]
  },
  {
   "cell_type": "markdown",
   "id": "3168eec4",
   "metadata": {},
   "source": [
    "# Fitting the Model"
   ]
  },
  {
   "cell_type": "raw",
   "id": "4a94798f",
   "metadata": {},
   "source": [
    "Notice your model doesn't know about the data yet. The model itself won't be built until you call .fit(); on the .fit() call, the model will use the column-wise data types of the input dataframe to determine how to treat each column:\n",
    "\n",
    "Numeric (float or int) columns will be scaled and treated as continuous variables.\n",
    "MSE loss is used for loss on these columns during training.\n",
    "Categorical (category, str or 'object') columns will be treated as categorical, with minority classes (frequency < min_cats argument in constructor) being lumped into a special 'N/A' category.\n",
    "Categorical Cross Entropy is used as a loss during training.\n",
    "These features are embedded into category vectors before being fed into the model.\n",
    "Category embeddings enable efficient learning of relationships between unique categories.\n",
    "Binary (bool or 'object' where n_unique < 3) columns will be treated as binary features.\n",
    "Binary Cross Entropy is used as loss."
   ]
  },
  {
   "cell_type": "code",
   "execution_count": 6,
   "id": "fac3a59b",
   "metadata": {},
   "outputs": [
    {
     "data": {
      "image/png": "[encoded data removed]",
      "text/plain": [
       "<Figure size 432x288 with 1 Axes>"
      ]
     },
     "metadata": {
      "image/png": {
       "height": 266,
       "width": 389
      }
     },
     "output_type": "display_data"
    }
   ],
   "source": [
    "model.fit(X_train, epochs=10, val=X_val)"
   ]
  },
  {
   "cell_type": "markdown",
   "id": "a35303ef",
   "metadata": {},
   "source": [
    "# Model Evaluation"
   ]
  },
  {
   "cell_type": "raw",
   "id": "27d6386b",
   "metadata": {},
   "source": [
    "How can we tell if the model is performing well? In supervised learning, the answer is straightforward. In self-supervised learning, it may not be so clear at first glance. There are a few terms to consider:\n",
    "\n",
    "Loss\n",
    "When we talk about loss here, we're talking about the \"reconstruction loss.\" That is, how well does the model predict the correct version of the example it's seeing?\n",
    "\n",
    "Baseline Validation Loss\n",
    "If we apply swap noise to our validation set and compute the loss given a strong prediction for the identity function, we can get an idea for what loss to expect from the model when it learns the trivial identity function. You'll see this value printed to your console (or plotted in your notebook if you use the ipynb logger, as in this notebook). Ideally, our model will learn to perform significantly better than this baseline.\n",
    "\n",
    "Validation Loss\n",
    "Keeping the swap noise constant (same input as used in computing baseline), we can see how our model does at the end of each epoch on reconstructing the original, unaltered validation set. This is our standard validation loss. Note: we don't re-apply swap noise on each epoch. We want to keep the validation task constant so each evaluation step is compared \"apples-to-apples.\"\n",
    "\n",
    "Identity Loss\n",
    "The \"identity loss\" is computed by measuring the reconstruction loss when inputs to the model are unaltered. Although learning the identity function is trivial, a low identity loss in combination with a low validation loss indicates that the model is good at identifying unaltered examples and returning an unchanged output."
   ]
  },
  {
   "cell_type": "markdown",
   "id": "49918867",
   "metadata": {},
   "source": [
    "# \"Deep Stack\" Features"
   ]
  },
  {
   "cell_type": "code",
   "execution_count": 7,
   "id": "5febf39e",
   "metadata": {},
   "outputs": [
    {
     "name": "stdout",
     "output_type": "stream",
     "text": [
      "torch.Size([6512, 1536])\n",
      "tensor([0.8113, 0.1103, 0.4432,  ..., 0.0000, 0.0000, 0.0000], device='cuda:0')\n"
     ]
    }
   ],
   "source": [
    "z = model.get_deep_stack_features(X_val)\n",
    "print(z.shape)\n",
    "print(z[0, :])"
   ]
  },
  {
   "cell_type": "markdown",
   "id": "f72bb50e",
   "metadata": {},
   "source": [
    "# BUT WAIT!"
   ]
  },
  {
   "cell_type": "raw",
   "id": "a22b24f3",
   "metadata": {},
   "source": [
    "Didn't we use salary to train the autoencoder? Won't we be cheating?\n",
    "\n",
    "Well, maybe. In a moment we'll see why that's not exactly important. Let's try to build a model anyway."
   ]
  },
  {
   "cell_type": "code",
   "execution_count": 8,
   "id": "5e8463c2",
   "metadata": {},
   "outputs": [
    {
     "data": {
      "text/plain": [
       "array(['<50k', '>=50k'], dtype=object)"
      ]
     },
     "execution_count": 8,
     "metadata": {},
     "output_type": "execute_result"
    }
   ],
   "source": [
    "X_train.salary.unique()"
   ]
  },
  {
   "cell_type": "code",
   "execution_count": 9,
   "id": "874b6e6b",
   "metadata": {},
   "outputs": [
    {
     "name": "stdout",
     "output_type": "stream",
     "text": [
      "0 epochs complete...\n",
      "\n",
      "Final results: \n",
      "validation loss:  0.3885\n",
      "validation accuracy:  0.816\n",
      "validation f1 score:  0.593\n"
     ]
    }
   ],
   "source": [
    "from tqdm import tqdm_notebook as tqdm\n",
    "\n",
    "from sklearn.metrics import f1_score\n",
    "import numpy as np\n",
    "import torch\n",
    "import tqdm\n",
    "\n",
    "class ClassifierModel(torch.nn.Module):\n",
    "    \"\"\"A simple classifier neural network.\"\"\"\n",
    "  \n",
    "    def __init__(self, *args, **kwargs):\n",
    "        super(ClassifierModel, self).__init__(*args, **kwargs)\n",
    "        self.input_dropout = torch.nn.Dropout(.1)\n",
    "        self.input_layer = torch.nn.Linear(1536, 512)\n",
    "        self.dropout = torch.nn.Dropout(.5)\n",
    "        self.dense = torch.nn.Linear(512, 512)\n",
    "        self.output = torch.nn.Linear(512, 1)\n",
    "\n",
    "    def forward(self, x):\n",
    "        x = self.input_dropout(x)\n",
    "        x = self.input_layer(x)\n",
    "        x = torch.relu(x)\n",
    "        x = self.dropout(x)\n",
    "        x = self.dense(x)\n",
    "        x = torch.relu(x)\n",
    "\n",
    "        x = self.output(x)\n",
    "        x = torch.sigmoid(x)\n",
    "        return x\n",
    "    \n",
    "    \n",
    "classifier = ClassifierModel().to(\"cuda:0\")\n",
    "\n",
    "optim = torch.optim.Adam(\n",
    "    classifier.parameters(),\n",
    "    weight_decay=.01\n",
    ")\n",
    "\n",
    "decay = torch.optim.lr_scheduler.ExponentialLR(optim, .99)\n",
    "\n",
    "loss = torch.nn.modules.loss.BCELoss()\n",
    "\n",
    "def do_step(classifier, optim, z, target, loss):\n",
    "    pred = classifier(z)\n",
    "    target = torch.tensor(target).float().reshape(-1, 1).to(\"cuda:0\")\n",
    "    loss_ = loss(pred, target)\n",
    "    amnt = loss_.item()\n",
    "    loss_.backward()\n",
    "    optim.step()\n",
    "    optim.zero_grad()\n",
    "    return amnt\n",
    "\n",
    "def do_evaluation(classifier, z, target, loss):\n",
    "    with torch.no_grad():\n",
    "        pred = classifier(z)\n",
    "        probs = pred.cpu().numpy().reshape(-1)\n",
    "        predictions = np.where(probs > .5, 1, 0)\n",
    "\n",
    "        accuracy = np.where(target==predictions, 1, 0).sum()/len(predictions)\n",
    "        f1 = f1_score(target, predictions)\n",
    "\n",
    "        target_ = torch.tensor(target).float().reshape(-1, 1).to(\"cuda:0\")\n",
    "        loss_ = loss(pred, target_)\n",
    "        return loss_.item(), accuracy, f1\n",
    "\n",
    "  \n",
    "batch_size = 256\n",
    "n_updates = (len(X_train)//batch_size) + 1\n",
    "\n",
    "n_epochs = 10\n",
    "\n",
    "#To extract features, we'll set the target column on the input\n",
    "#equal to the majority class: <50k\n",
    "\n",
    "X_train2 = X_train.copy()\n",
    "X_train2['salary'] = ['<50k' for _ in X_train2['salary']]\n",
    "z_train = model.get_deep_stack_features(X_train2)\n",
    "\n",
    "Y_train = np.where(X_train['salary'].values == '<50k', 0, 1)\n",
    "\n",
    "X_test2 = X_val.copy()\n",
    "X_test2['salary'] = ['<50k' for _ in X_test2['salary']]\n",
    "z_test = model.get_deep_stack_features(X_test2)\n",
    "Y_test = np.where(X_val['salary'].values == '<50k', 0, 1)\n",
    "\n",
    "for j in range(n_epochs):\n",
    "    if j % 100 == 0:\n",
    "      print(f'{j} epochs complete...')\n",
    "    for i in range(n_updates):\n",
    "        step = i\n",
    "        start = int((step) * batch_size)\n",
    "        stop = int((step+1) * batch_size)\n",
    "        in_ = z_train[start:stop]\n",
    "        target = Y_train[start:stop]\n",
    "        do_step(classifier, optim, in_, target, loss)\n",
    "    decay.step()\n",
    "    bce_loss, accuracy, f1 = do_evaluation(classifier, z_test, Y_test, loss)\n",
    "print('\\nFinal results: ')\n",
    "print('validation loss: ', round(bce_loss, 4))\n",
    "print('validation accuracy: ', round(accuracy, 3))\n",
    "print('validation f1 score: ', round(f1, 3))"
   ]
  },
  {
   "cell_type": "markdown",
   "id": "ae3d0948",
   "metadata": {},
   "source": [
    "# How We Handled the Target"
   ]
  },
  {
   "cell_type": "raw",
   "id": "346ad017",
   "metadata": {},
   "source": [
    "If you look at the above code, you'll see what we did to handle the target variable. We just set it to the majority class before inputting into the model - this gives us a test-agnostic way to encode our inputs for the classifier.\n",
    "\n",
    "Of course, the best way to deal with this is to omit the target from your autoencoder training in the first place, but this serves as an example of how we can get around the issue if we want to predict a variable that our autoencoder is expecting."
   ]
  },
  {
   "cell_type": "markdown",
   "id": "f263cc80",
   "metadata": {},
   "source": [
    "# Anomaly Detection"
   ]
  },
  {
   "cell_type": "raw",
   "id": "120f25a5",
   "metadata": {},
   "source": [
    "Another great application of DAE is anomaly detection. Here's an intuition on how this works:\n",
    "\n",
    "If we input a regular example, unaltered, into the DAE, we expect it to output a strong prediction for the input values. However, if the model sees an \"unusual\" example, it's going to be less certain. It may even return a strong prediction for different values than the input.\n",
    "\n",
    "We can measure this uncertainty as the loss against the input example against the model output. This value can be interpreted as an anomaly score.\n",
    "\n",
    "dfencoder AutoEncoders have a method to get this for you: .get_anomaly_score()"
   ]
  },
  {
   "cell_type": "code",
   "execution_count": 10,
   "id": "aa34cc70",
   "metadata": {},
   "outputs": [
    {
     "name": "stderr",
     "output_type": "stream",
     "text": [
      "C:\\Users\\varun\\AppData\\Local\\Temp\\ipykernel_13616\\124287795.py:2: SettingWithCopyWarning: \n",
      "A value is trying to be set on a copy of a slice from a DataFrame.\n",
      "Try using .loc[row_indexer,col_indexer] = value instead\n",
      "\n",
      "See the caveats in the documentation: https://pandas.pydata.org/pandas-docs/stable/user_guide/indexing.html#returning-a-view-versus-a-copy\n",
      "  X_val['anomaly_score'] = scores\n"
     ]
    },
    {
     "data": {
      "text/html": [
       "<div>\n",
       "<style scoped>\n",
       "    .dataframe tbody tr th:only-of-type {\n",
       "        vertical-align: middle;\n",
       "    }\n",
       "\n",
       "    .dataframe tbody tr th {\n",
       "        vertical-align: top;\n",
       "    }\n",
       "\n",
       "    .dataframe thead th {\n",
       "        text-align: right;\n",
       "    }\n",
       "</style>\n",
       "<table border=\"1\" class=\"dataframe\">\n",
       "  <thead>\n",
       "    <tr style=\"text-align: right;\">\n",
       "      <th></th>\n",
       "      <th>age</th>\n",
       "      <th>workclass</th>\n",
       "      <th>fnlwgt</th>\n",
       "      <th>education</th>\n",
       "      <th>education-num</th>\n",
       "      <th>marital-status</th>\n",
       "      <th>occupation</th>\n",
       "      <th>relationship</th>\n",
       "      <th>race</th>\n",
       "      <th>sex</th>\n",
       "      <th>capital-gain</th>\n",
       "      <th>capital-loss</th>\n",
       "      <th>hours-per-week</th>\n",
       "      <th>native-country</th>\n",
       "      <th>salary</th>\n",
       "      <th>anomaly_score</th>\n",
       "    </tr>\n",
       "  </thead>\n",
       "  <tbody>\n",
       "    <tr>\n",
       "      <th>21004</th>\n",
       "      <td>32</td>\n",
       "      <td>Private</td>\n",
       "      <td>112137</td>\n",
       "      <td>Preschool</td>\n",
       "      <td>1.0</td>\n",
       "      <td>Married-civ-spouse</td>\n",
       "      <td>Machine-op-inspct</td>\n",
       "      <td>Wife</td>\n",
       "      <td>Asian-Pac-Islander</td>\n",
       "      <td>Female</td>\n",
       "      <td>4508</td>\n",
       "      <td>0</td>\n",
       "      <td>40</td>\n",
       "      <td>Cambodia</td>\n",
       "      <td>&lt;50k</td>\n",
       "      <td>2.998925</td>\n",
       "    </tr>\n",
       "    <tr>\n",
       "      <th>16673</th>\n",
       "      <td>75</td>\n",
       "      <td>Private</td>\n",
       "      <td>71898</td>\n",
       "      <td>Preschool</td>\n",
       "      <td>1.0</td>\n",
       "      <td>Never-married</td>\n",
       "      <td>Priv-house-serv</td>\n",
       "      <td>Not-in-family</td>\n",
       "      <td>Asian-Pac-Islander</td>\n",
       "      <td>Female</td>\n",
       "      <td>0</td>\n",
       "      <td>0</td>\n",
       "      <td>48</td>\n",
       "      <td>Philippines</td>\n",
       "      <td>&lt;50k</td>\n",
       "      <td>2.748842</td>\n",
       "    </tr>\n",
       "    <tr>\n",
       "      <th>18431</th>\n",
       "      <td>39</td>\n",
       "      <td>NaN</td>\n",
       "      <td>362685</td>\n",
       "      <td>Preschool</td>\n",
       "      <td>1.0</td>\n",
       "      <td>Widowed</td>\n",
       "      <td>NaN</td>\n",
       "      <td>Not-in-family</td>\n",
       "      <td>White</td>\n",
       "      <td>Female</td>\n",
       "      <td>0</td>\n",
       "      <td>0</td>\n",
       "      <td>20</td>\n",
       "      <td>El-Salvador</td>\n",
       "      <td>&lt;50k</td>\n",
       "      <td>2.715962</td>\n",
       "    </tr>\n",
       "    <tr>\n",
       "      <th>3163</th>\n",
       "      <td>23</td>\n",
       "      <td>Private</td>\n",
       "      <td>240049</td>\n",
       "      <td>Preschool</td>\n",
       "      <td>1.0</td>\n",
       "      <td>Never-married</td>\n",
       "      <td>Other-service</td>\n",
       "      <td>Not-in-family</td>\n",
       "      <td>Asian-Pac-Islander</td>\n",
       "      <td>Female</td>\n",
       "      <td>0</td>\n",
       "      <td>0</td>\n",
       "      <td>40</td>\n",
       "      <td>Laos</td>\n",
       "      <td>&lt;50k</td>\n",
       "      <td>2.635139</td>\n",
       "    </tr>\n",
       "    <tr>\n",
       "      <th>32444</th>\n",
       "      <td>59</td>\n",
       "      <td>Private</td>\n",
       "      <td>157305</td>\n",
       "      <td>Preschool</td>\n",
       "      <td>1.0</td>\n",
       "      <td>Never-married</td>\n",
       "      <td>Machine-op-inspct</td>\n",
       "      <td>Not-in-family</td>\n",
       "      <td>White</td>\n",
       "      <td>Male</td>\n",
       "      <td>0</td>\n",
       "      <td>0</td>\n",
       "      <td>40</td>\n",
       "      <td>Dominican-Republic</td>\n",
       "      <td>&lt;50k</td>\n",
       "      <td>2.298588</td>\n",
       "    </tr>\n",
       "  </tbody>\n",
       "</table>\n",
       "</div>"
      ],
      "text/plain": [
       "       age workclass  fnlwgt   education  education-num       marital-status  \\\n",
       "21004   32   Private  112137   Preschool            1.0   Married-civ-spouse   \n",
       "16673   75   Private   71898   Preschool            1.0        Never-married   \n",
       "18431   39       NaN  362685   Preschool            1.0              Widowed   \n",
       "3163    23   Private  240049   Preschool            1.0        Never-married   \n",
       "32444   59   Private  157305   Preschool            1.0        Never-married   \n",
       "\n",
       "               occupation    relationship                 race      sex  \\\n",
       "21004   Machine-op-inspct            Wife   Asian-Pac-Islander   Female   \n",
       "16673     Priv-house-serv   Not-in-family   Asian-Pac-Islander   Female   \n",
       "18431                 NaN   Not-in-family                White   Female   \n",
       "3163        Other-service   Not-in-family   Asian-Pac-Islander   Female   \n",
       "32444   Machine-op-inspct   Not-in-family                White     Male   \n",
       "\n",
       "       capital-gain  capital-loss  hours-per-week       native-country salary  \\\n",
       "21004          4508             0              40             Cambodia   <50k   \n",
       "16673             0             0              48          Philippines   <50k   \n",
       "18431             0             0              20          El-Salvador   <50k   \n",
       "3163              0             0              40                 Laos   <50k   \n",
       "32444             0             0              40   Dominican-Republic   <50k   \n",
       "\n",
       "       anomaly_score  \n",
       "21004       2.998925  \n",
       "16673       2.748842  \n",
       "18431       2.715962  \n",
       "3163        2.635139  \n",
       "32444       2.298588  "
      ]
     },
     "execution_count": 10,
     "metadata": {},
     "output_type": "execute_result"
    }
   ],
   "source": [
    "scores = model.get_anomaly_score(X_val)\n",
    "X_val['anomaly_score'] = scores\n",
    "X_val.sort_values('anomaly_score', ascending=False).head()"
   ]
  },
  {
   "cell_type": "raw",
   "id": "c3ee881a",
   "metadata": {},
   "source": [
    "If we look at the highest anomaly scores, we can try to guess about why these came out as anomalies. Alternatively, we can see what predictions the model made. Which brings us to the next application..."
   ]
  },
  {
   "cell_type": "markdown",
   "id": "8757c0da",
   "metadata": {},
   "source": [
    "# Imputation"
   ]
  },
  {
   "cell_type": "raw",
   "id": "1f3518a3",
   "metadata": {},
   "source": [
    "DAE are useful for imputation. To impute values, we can pass in an (incomplete) row and look at the model predictions; although the models train with a NaN value for categories, the .df_predict() method will return the maximum NON-NULL prediction as an imputed value. Let's see what the model outputs for the anomalous examples above:"
   ]
  },
  {
   "cell_type": "code",
   "execution_count": 11,
   "id": "f7c9e934",
   "metadata": {},
   "outputs": [],
   "source": [
    "#imputed_values = model.df_predict(X_val.drop(columns='anomaly_score'))\n",
    "#imputed_values['anomaly_score'] = scores\n",
    "#imputed_values.sort_values('anomaly_score', ascending=False).head()"
   ]
  },
  {
   "cell_type": "code",
   "execution_count": 12,
   "id": "33b21b81",
   "metadata": {},
   "outputs": [
    {
     "name": "stdout",
     "output_type": "stream",
     "text": [
      "              category  distance from  Farming-fishing\n",
      "9      Farming-fishing                        0.000000\n",
      "2      Exec-managerial                        0.355341\n",
      "1         Craft-repair                        0.525239\n",
      "8    Handlers-cleaners                        0.591923\n",
      "14              _other                        0.626627\n",
      "11     Protective-serv                        0.628219\n",
      "12     Priv-house-serv                        0.778396\n",
      "4                Sales                        0.848896\n",
      "10        Tech-support                        0.919160\n",
      "5        Other-service                        1.200939\n",
      "6    Machine-op-inspct                        1.288903\n",
      "0       Prof-specialty                        1.324627\n",
      "13        Armed-Forces                        1.334405\n",
      "3         Adm-clerical                        1.389032\n",
      "7     Transport-moving                        1.593981\n"
     ]
    }
   ],
   "source": [
    "from scipy.spatial.distance import cosine\n",
    "\n",
    "def compare_category(model, feature, cat):\n",
    "    \"\"\"Ranks categories based on distance from category in question.\"\"\"\n",
    "    feature = model.categorical_fts[feature]\n",
    "    cats = feature['cats'] + ['_other']\n",
    "    scores = []\n",
    "    this_cat = cats.index(cat)\n",
    "    emb = feature['embedding']\n",
    "    \n",
    "    ft_embedding = emb.weight.data.cpu().numpy()[this_cat, :]\n",
    "    \n",
    "    for i, cat_ in enumerate(cats):\n",
    "        vec = emb.weight.data.cpu().numpy()[i, :]\n",
    "        similarity = cosine(ft_embedding, vec)\n",
    "        scores.append(similarity)\n",
    "        \n",
    "    scrnm = f'distance from {cat}'\n",
    "    result = pd.DataFrame(columns=['category', scrnm])\n",
    "    result['category'] = cats\n",
    "    result[scrnm] = scores\n",
    "    \n",
    "    print(result.sort_values(scrnm))\n",
    "    \n",
    "compare_category(model, 'occupation', ' Farming-fishing')"
   ]
  },
  {
   "cell_type": "code",
   "execution_count": null,
   "id": "bd0de5ff",
   "metadata": {},
   "outputs": [],
   "source": []
  },
  {
   "cell_type": "code",
   "execution_count": null,
   "id": "61576ad9",
   "metadata": {},
   "outputs": [],
   "source": []
  },
  {
   "cell_type": "code",
   "execution_count": null,
   "id": "10916722",
   "metadata": {},
   "outputs": [],
   "source": []
  }
 ],
 "metadata": {
  "kernelspec": {
   "display_name": "Python 3 (ipykernel)",
   "language": "python",
   "name": "python3"
  },
  "language_info": {
   "codemirror_mode": {
    "name": "ipython",
    "version": 3
   },
   "file_extension": ".py",
   "mimetype": "text/x-python",
   "name": "python",
   "nbconvert_exporter": "python",
   "pygments_lexer": "ipython3",
   "version": "3.9.12"
  }
 },
 "nbformat": 4,
 "nbformat_minor": 5
}
